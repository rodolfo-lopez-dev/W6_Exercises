{
 "cells": [
  {
   "cell_type": "markdown",
   "id": "3d0ed4bf-9501-4b8d-aa49-54eabd5d6e38",
   "metadata": {},
   "source": [
    "# Name Game\n"
   ]
  },
  {
   "cell_type": "markdown",
   "id": "bfff2b84-6964-4265-b95b-b54bb35ef3d3",
   "metadata": {},
   "source": [
    "## What is the Name Game?\n",
    "The Name Game is a Python script that uses a rhyming song to use it's fundamentals. It's a great way to practice string manipulation, errors and functions"
   ]
  },
  {
   "cell_type": "code",
   "execution_count": 7,
   "id": "365d24bb-af4b-4f0c-b10f-1ba9d61917d1",
   "metadata": {},
   "outputs": [
    {
     "name": "stdin",
     "output_type": "stream",
     "text": [
      "Enter a name for The Name Game song:  Griezmann\n"
     ]
    },
    {
     "name": "stdout",
     "output_type": "stream",
     "text": [
      "Please enter a valid name.\n",
      "Griezmann, Griezmann, bo-biezmann\n",
      "Banana-fana fo-fiezmann\n",
      "Fee-fi-mo-miezmann\n",
      "Griezmann!\n"
     ]
    }
   ],
   "source": [
    "# using trunc_name variable\n",
    "def trunc_name(name):\n",
    "    name = name.lower()\n",
    "    \n",
    "    # Using if a vowel is in the start, it will be unchanged\n",
    "    if name[0] in 'aeiou':\n",
    "        return name\n",
    "\n",
    "    # modifying a string to remove any starting consonants\n",
    "    for i in range(len(name)):\n",
    "        if name[i] in 'aeiou':\n",
    "            return name[i:]\n",
    "    return name\n",
    "\n",
    "# using original and truncate version of the name game\n",
    "def name_game(name):\n",
    "    trunc = trunc_name(name)\n",
    "\n",
    "    # Using yield to allow the function to return each line of the song\n",
    "    yield f\"{name}, {name}, bo-b{trunc}\"\n",
    "    yield f\"Banana-fana fo-f{trunc}\"\n",
    "    yield f\"Fee-fi-mo-m{trunc}\"\n",
    "    yield f\"{name}!\"\n",
    "\n",
    "# Using exception for a name\n",
    "while True:\n",
    "    try:\n",
    "        user_name = input(\"Enter a name for The Name Game song: \").strip()\n",
    "\n",
    "        # Check if the input is 2 characters or more\n",
    "        if len(user_name) < 2:\n",
    "            raise ValueError(\"The name must be at least 2 letters long.\")\n",
    "\n",
    "        # Ensure the name is alphabetical\n",
    "        if not user_name.isalpha():\n",
    "            raise ValueError(\"The name must contain only letters (no numbers or symbols).\")\n",
    "\n",
    "        break  # Exit loop if above is met\n",
    "    except ValueError as e:\n",
    "        print(f\"Invalid input: {e}\")\n",
    "    finally:\n",
    "        print(\"Please enter a valid name.\")\n",
    "\n",
    "# Results\n",
    "for line in name_game(user_name):\n",
    "    print(line)\n"
   ]
  },
  {
   "cell_type": "markdown",
   "id": "2eb5e57a-f8c5-4a13-8067-785faea9c6d2",
   "metadata": {},
   "source": [
    "### Example 1: \"David\"\n",
    "Below is the the result of \"David\""
   ]
  },
  {
   "cell_type": "code",
   "execution_count": 3,
   "id": "b04db8aa-ef25-4eeb-b34f-afeca2a87ccf",
   "metadata": {},
   "outputs": [
    {
     "name": "stdout",
     "output_type": "stream",
     "text": [
      "David, David, bo-bavid\n",
      "Banana-fana fo-favid\n",
      "Fee-fi-mo-mavid\n",
      "David!\n"
     ]
    }
   ],
   "source": [
    "for line in name_game(\"David\"):\n",
    "    print(line)"
   ]
  },
  {
   "cell_type": "markdown",
   "id": "15c41204-64a1-42e9-beb8-d39a89da519f",
   "metadata": {},
   "source": [
    "### Example 2: \"Bess\"\n",
    "Below is the result of \"Bess\""
   ]
  },
  {
   "cell_type": "code",
   "execution_count": 5,
   "id": "70b61830-ea36-457b-acf8-e14ea1669095",
   "metadata": {},
   "outputs": [
    {
     "name": "stdout",
     "output_type": "stream",
     "text": [
      "Bess, Bess, bo-bess\n",
      "Banana-fana fo-fess\n",
      "Fee-fi-mo-mess\n",
      "Bess!\n"
     ]
    }
   ],
   "source": [
    "for line in name_game(\"Bess\"):\n",
    "    print(line)"
   ]
  },
  {
   "cell_type": "markdown",
   "id": "e4db1555-1e97-4daf-90d4-6b4a9485a908",
   "metadata": {},
   "source": [
    "### Example 3: \"Griezmann\"\n",
    "Below is the result of \"Griezmann\""
   ]
  },
  {
   "cell_type": "code",
   "execution_count": 8,
   "id": "4eb6a8d2-9f77-42e9-a461-8e0980a0e021",
   "metadata": {},
   "outputs": [
    {
     "name": "stdout",
     "output_type": "stream",
     "text": [
      "Griezmann, Griezmann, bo-biezmann\n",
      "Banana-fana fo-fiezmann\n",
      "Fee-fi-mo-miezmann\n",
      "Griezmann!\n"
     ]
    }
   ],
   "source": [
    "for line in name_game(\"Griezmann\"):\n",
    "    print(line)"
   ]
  },
  {
   "cell_type": "code",
   "execution_count": null,
   "id": "75a3474e-460b-4f7f-ad95-3a7ab6680340",
   "metadata": {},
   "outputs": [],
   "source": []
  }
 ],
 "metadata": {
  "kernelspec": {
   "display_name": "Python 3 (ipykernel)",
   "language": "python",
   "name": "python3"
  },
  "language_info": {
   "codemirror_mode": {
    "name": "ipython",
    "version": 3
   },
   "file_extension": ".py",
   "mimetype": "text/x-python",
   "name": "python",
   "nbconvert_exporter": "python",
   "pygments_lexer": "ipython3",
   "version": "3.13.0"
  }
 },
 "nbformat": 4,
 "nbformat_minor": 5
}
